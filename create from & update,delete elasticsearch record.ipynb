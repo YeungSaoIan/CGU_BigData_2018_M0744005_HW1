{
 "cells": [
  {
   "cell_type": "code",
   "execution_count": null,
   "metadata": {},
   "outputs": [],
   "source": [
    "import json\n",
    "from elasticsearch import Elasticsearch\n",
    "\n",
    "es = Elasticsearch\n",
    "#建立photo資料表\n",
    "es.index(index='yelp', doc_type='photo', body=data)\n",
    "\n",
    "#yelp_photo json結構\n",
    "#{\"photo_id\": \"IuXwafFH3fZlTyXA-poz0w\", \"business_id\": \"wRKYaVXTks43GVSI2awTQA\", \"caption\": \"\", \"label\": \"food\"}\n",
    "\n",
    "#插入數據內容\n",
    "data = {\n",
    "    'photo_id': 'testphotoid',\n",
    "    'business_id': 'testbusinessid',\n",
    "    'caption': 'testcaption',\n",
    "    'label':'testlabel'\n",
    "}\n",
    "\n",
    "#插入數據的資料放在（歸類為）photo資料表\n",
    "result = es.create(index='yelp', doc_type='photo', body=data, id=1)\n",
    "print(result)\n",
    "\n",
    "#更新數據的資料放在（歸類為）photo資料表\n",
    "result = es.update(index='yelp', doc_type='photo', body=data, id=1)\n",
    "print(result)\n",
    "\n",
    "#刪除photo資料表id=1數據\n",
    "#result = es.delete(index='yelp', doc_type='photo', id=1)\n",
    "#result = es.delete(index='yelp', doc_type='photo', id=NzdHYWYBEzhtkpu1uZX_)\n"
   ]
  }
 ],
 "metadata": {
  "kernelspec": {
   "display_name": "Python 3",
   "language": "python",
   "name": "python3"
  },
  "language_info": {
   "codemirror_mode": {
    "name": "ipython",
    "version": 3
   },
   "file_extension": ".py",
   "mimetype": "text/x-python",
   "name": "python",
   "nbconvert_exporter": "python",
   "pygments_lexer": "ipython3",
   "version": "3.6.5"
  }
 },
 "nbformat": 4,
 "nbformat_minor": 2
}
